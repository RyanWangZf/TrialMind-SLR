{
 "cells": [
  {
   "cell_type": "code",
   "execution_count": 1,
   "id": "f0b3d146-bdaf-4cba-beca-fd24786013ba",
   "metadata": {},
   "outputs": [],
   "source": [
    "# prepare the key for openai and pubmed\n",
    "import os\n",
    "\n",
    "# E2B sandbox API\n",
    "with open(\"e2b.key\", \"r\") as f:\n",
    "    E2B_API_KEY = f.read()\n",
    "    os.environ[\"E2B_API_KEY\"] = E2B_API_KEY\n",
    "\n",
    "# OpenAI API key\n",
    "with open(\"openai.key\", \"r\") as f:\n",
    "    OPENAI_API_KEY_GLOBAL = f.read()\n",
    "    os.environ[\"OPENAI_API_KEY\"] = OPENAI_API_KEY_GLOBAL\n",
    "\n",
    "#  Pubmed API key\n",
    "with open(\"pubmed.key\", \"r\") as f:\n",
    "    DEFAULT_PUBMED_API_KEY = f.read()\n",
    "    os.environ[\"PUBMED_API_KEY\"] = DEFAULT_PUBMED_API_KEY"
   ]
  },
  {
   "cell_type": "markdown",
   "id": "f4a1e3bb-044e-4239-ad48-f8ec825a66f6",
   "metadata": {},
   "source": [
    "# Get example paper's content"
   ]
  },
  {
   "cell_type": "code",
   "execution_count": 2,
   "id": "0e304e61-a507-47e2-8a92-06adca502a5c",
   "metadata": {},
   "outputs": [
    {
     "data": {
      "text/plain": [
       "[\"Tolerance and efficacy of autologous or donor-derived T cells expressing CD19 chimeric antigen receptors in adult B-ALL with extramedullary leukemia\\nThe engineering of T lymphocytes to express chimeric antigen receptors (CARs) aims to establish T cell-mediated tumor immunity rapidly. In this study, we conducted a pilot clinical trial of autologous or donor- derived T cells genetically modified to express a CAR targeting the B-cell antigen CD19 harboring 4-1BB and the CD3Î¶ moiety. All enrolled patients had relapsed or chemotherapy-refractory B-cell lineage acute lymphocytic leukemia (B-ALL). Of the nine patients, six had definite extramedullary involvement, and the rate of overall survival at 18Â\\xa0weeks was 56%. One of the two patients who received conditioning chemotherapy achieved a three-month durable complete response with partial regression of extramedullary lesions. Four of seven patients who did not receive conditioning chemotherapy achieved dramatic regression or a mixed response in the haematopoietic system and extramedullary tissues for two to nine months. Grade 2â\\x80\\x933 graft-versus-host disease (GVHD) was observed in two patients who received substantial donor-derived anti-CD19 CART (chimeric antigen receptor-modified T) cells 3â\\x80\\x934Â\\xa0weeks after cell infusions. These results show for the first time that donor-derived anti-CD19 CART cells can cause GVHD and regression of extramedullary B-ALL. This study is registered at  as NCT01864889.\\nAbbreviations\\nAllo-HSCT\\nAllogeneic haematopoietic stem cell transplantation\\nB-ALL\\nB-cell acute lymphoblastic leukemi\\nCAR\\nchimeric antigen receptor\\nCLL\\nchronic lymphocytic leukemia\\nCNS\\ncerebral spinal fluid\\nCRS\\ncytokine release syndrome\\nGVHD\\ngraft-versus-host disease\\nMRD\\nminimal residual disease\\nNHL\\nnon-Hodgkin lymphoma\\nIntroduction\\nB-ALL in adults remains a challenge for medical oncologists because of poor overall survival. For patients who had received allogeneic haematopoietic stem cell transplantation (allo-HSCT) in first remission, the overall complete remission rate to first salvage therapy was 25%. However, many patients never receive a potentially life-saving allo-HSCT due to failure to achieve a second CR after salvage chemotherapy. As a result, data in which all relapses are included in the analysis irrespective of whether allo-HSCT is performed show a much more dismal long-term survival for patients with relapsed B-ALL, despite intensive, highly toxic therapy. Furthermore, all salvage therapies currently suited to relapsed B-ALL are associated with much short-term and long-term toxicity. Moreover, leukemia infiltration into extramedullary sites may also reduce leukemia responsiveness to induction chemotherapy, whereas persisting blasts correlate with decreased overall survival and confer poor prognosis in patients with ALL. For this reason, new therapeutic regimens for this patient population are needed.\\nThe aim of adoptive transfer of genetically engineered immune effector cells is to rapidly establish T cellâ\\x80\\x93mediated tumor immunity. CART cell therapy has emerged as a promising strategy for the treatment of cancer. Expression of CD19 is restricted to B-lineage cells and possibly follicular dendritic cells, and it is found in most B-cell malignancies, including B-ALL. The use of the second-generation CART cells targeting CD19 (CART-19) has shown amazing clinical efficacy even in some patients with relapsed and/or refractory acute lymphoblastic leukemia (ALL), chronic lymphocytic leukemia (CLL) and non-Hodgkin lymphoma (NHL), providing a potential cure strategy for B-cell malignancies. With the exception of autologous CART-19 cell therapy, donor-derived cell infusion has been widely administered to patients who relapsed after allo-HSCT in several recently registered clinical trials. A few preliminary clinical reports have revealed the feasibility and safety of a strategy of donor-derived CART-19 infusions. In this report, we enrolled nine adult patients with relapsed or chemotherapy-refractory B-ALL, including three with previous allo-HSCT and six suffering from definite extramedullary involvement which were ineligible in the most other trials, and treated them with autologous or donor-derived CART-19 cells. Only two out of nine patients received conditioning regimens combined with intensive chemotherapy before CART-19 infusions. Objective clinical response including in both the haematopoietic system and extramedullary tissues was observed in 6 patients in this trial. Two patients who received donor-derived CART-19 developed treatable grade 2â\\x80\\x933 GVHD 3â\\x80\\x934Â\\xa0weeks after cell infusions. Repeated cytokine release syndrome (CRS) linked with high tumor burdens was observed in most cases. This study provides further support for CART-19 clinical trials in patients with refractory B-ALL and raises the possibility of using CART-19 in the early disease stage.\\nResults\\nPatient characteristics\\nNine patients with CD19+ B-ALL were enrolled from July 2013 to March 2014 (TableÂ\\xa01). Nine patients with B-ALL had primary refractory disease and had never attained a minimal-residual-disease (MRD) negative remission despite many intensive chemotherapy regimens. Three had previously undergone allogeneic HSCT. Six patients had confirmed extramedullary leukemia involvement or bulky adenopathy after relapse and/or salvage therapy. Extramedullary leukemia involves sequestered sites such as the liver, kidney, bone, muscular tissues, lung, pancreas and central nervous system. Details regarding previous induction and subsequent salvage regimens following relapse are summarized in TableÂ\\xa0S1.  \\nGeneration, characterization and in vitro anti-leukemia activity of CART-19 cells\\nAfter 10â\\x80\\x9312Â\\xa0d of culture, cells were released for infusion (Fig.Â\\xa01A). The verified transfection efficiency of the final products ranged from 13.27% to 44.06 % (Fig.Â\\xa0S1B and TableÂ\\xa0S2). CART-19 cells were principally composed of CD8+ cells (70.87% Â± 13.95%), the majority of which express CD62L (63.36% Â± 16.11%), with a few of showing a central memory T cell phenotype (CD45RO+CCR7+CD62L+, 15.54% Â± 9.96%) (TableÂ\\xa0S3). The final number of infused cells and the corresponding immunophenotypic data for each patient are summarized in TablesÂ\\xa0S2 and S3.  \\nCompared with the nontransduced T (NT) cells and mock transduced T cells, we demonstrated that CART-19 cells possessed prominent cytolytic activity against CD19+ Raji, NALM6, cells and CD19+ primary B-ALL blast cells, but not CD19â\\x88\\x92 K562 cells (Figs.Â\\xa01B and 1C).\\nReverse correlation between CAR molecule levels and CD19+ target cell number\\nThe in vivo persistence of CART-19 cells was measured by quantitative real-time Polymerase Chain Reaction (PCR) of serial peripheral blood (PB) and bone marrow (BM) aspirate samples in this cohort of patients. As shown in Fig.Â\\xa02A, CAR copy numbers in PB reached their peak value 2â\\x80\\x933Â\\xa0weeks after CART-19 infusions in most patients and maintained a high level (>1,000 copies/Î¼g gDNA) for more than 6Â\\xa0weeks in patients 1, 3, 4, 6, 8, and 9. Similarly, high copy numbers were detected from BM samples 2â\\x80\\x933Â\\xa0weeks after CART-19 infusions and maintained for at least 6â\\x80\\x9312Â\\xa0weeks in patients 1, 4, 6, 8 and 9 (Fig.Â\\xa02B and Figs.Â\\xa0S2A and S2B). High levels and long-term maintenance of CAR molecule expression were serially detected in the CSF of patients 6 and 7 who had definite leukemia involvement in the central nervous system (Fig.Â\\xa02C and Fig.Â\\xa0S2C). With the exception of patients 2, 5 and 6, CART-19 treatment induced a marked decrease in CD19+ cell count in PB, BM and CSF (reflected by BCR/ABL molecule marker) within 3â\\x80\\x934Â\\xa0weeks, with subsequent observation showing a reverse correlation between CAR levels and CD19 count.  \\nChanges of serum cytokines associated with CART-19 treatment\\nWe analyzed the fluctuation of the serum cytokine levels before and after CART-19 infusions for each patient. A transiently elevation of cytokines including IL-6, TNF-Î±, IFNÎ³, IL-8, IL-10, Granzyme B, VEGF, IL-12p40, and Granzyme A, albeit at markedly different levels, were observed in nearly all patients in the early stage after cell treatment (within 2â\\x80\\x933Â\\xa0weeks), and the subsequent discontinuous fluctuation of IL-6, TNF-Î±, IFNÎ³, IL-8, and IL-10 with high levels were observed in patients 1, 2, 4, 8 and 9 (Figs.Â\\xa0S3A and S3B). We also analyzed the rapid and extreme variations of cytokine levels from all patients treated in this trial within one month after CART cell infusion (Fig.Â\\xa03 and Fig.Â\\xa0S4A). The peak time of cytokine elevation correlated temporally with the peak levels of CART-19 cells detected in the blood for each patient, which was consisted with previous studies. Notably, we found that patients with CRS or GVHD treated with steroids and/or tocilizumab after 30Â\\xa0d exhibited a rapid drop in serum cytokines, consistent with clinical resolution of the CRS. In addition, the decline of CART-19 cells after 30Â\\xa0d may induce the variation of cytokines.  \\nClinical response after CART-19 infusion\\nClinical response assessment was done on day 30 (within 4Â\\xa0d) after CART-19 cell infusion. Patients 2 and 9 were given conditioning chemotherapy for debulking before receiving CART-19 cell infusions. Patients 3, 4 and 8 were not suitable candidates for further chemotherapy due to dyscrasia, cardiac insufficiency, or pulmonary fungal infection. Patient 5 refused any conditioning regimen before CART-19 infusions. Patients 1, 6, and 7 were not given a conditioning treatment in light of their low leukemia burden.\\nPrior to CART-19 infusions, three patients (patients 1, 6 and 7) had Ph+ minimal residual disease (MRD+) in BM at the molecular level and/or leukemia involvement in the cerebral spinal fluid (CNS3) that was refractory to craniocerebral radiotherapy and intrathecal chemotherapeutic drug injection (MTX/Ara-c/Dex). CART-19 infusion only led to 9 week MRDâ\\x88\\x92 remission in patient 1 (Fig.Â\\xa0S2A), 38 week MRDâ\\x88\\x92 and CNS1 remission in patient 7 (Figs.Â\\xa02A and 2B), and 20 week CNS1 remission in patient 6 (Fig.Â\\xa0S2C). Rapid progression was confirmed morphologically 12Â\\xa0weeks after cell therapy in patient 1; this may have been related to imatinib (TKI) administration beginning from 5Â\\xa0weeks after cell infusion, given possible functional repression of T cells by TKI. Interestingly and importantly, patient 7 suffered obvious subcutaneous nodules in the limbs and chest wall with MRDâ\\x88\\x92 and CNS1 remission 30Â\\xa0weeks after the first CART-19 infusion. The nodules were confirmed to be due to leukemia involvement in subcutaneous adipose tissues by immunohistochemical examination of biopsy specimens (Fig.Â\\xa0S5A), and they were sensitive to chemotherapy.\\nPatients 8 and 9 converted mixed to complete donor chimerism at the time of onset GVHD after donor-derived CART-19 cell infusion. Patient 8 obtained an 8-week relief of cytopenia in the blood and a moderate decrease of blasts in BM after infusion, but rapidly progressed and died shortly after receiving anti-GVHD therapy. Patient 9 gradually reached a complete hematologic remission and a partial regression of her extramedullary leukemic lesions. The bone pain of extramedullary sites could be alleviated after infusion for patient 9 (Figs.Â\\xa04A and 4B). Similarly, after receiving anti-GVHD therapy consisting of steroids and cyclosporine A (CsA), approximately 50% CD19+ blasts reoccurred in BM 12Â\\xa0weeks after CART-19 infusion (Fig.Â\\xa04A). Patients 2, 3, and 5, who showed rapid clinical progression of leukemia prior to receiving CART-19 infusion, developed aggressive disease even after CART-19 treatment and soon died (Fig.Â\\xa0S6). During the preparation of CART-19 cells, the total white blood cell (WBC) count of patient 4 rose sharply from 1.2 Ã\\x97 109/L to 91.63 Ã\\x97 109/L with approximately 60% blasts in PB on the first day of CART-19 cell infusion. This patient gradually attained complete hematological remission and partial regression of her extensive adenopathy after CART-19 infusion. (Figs.Â\\xa04C, 4D, and 4E, ). However, the disease reoccurred 20Â\\xa0weeks after the first CART-19 infusion, along with a decreased level of CAR molecule in PB and BM (Fig.Â\\xa02A and Fig.Â\\xa0S2B). This patient received a second CART19 treatment and succumbed from acute tumor lysis syndrome (TLS) related to her extensive and bulky adenopathy 12Â\\xa0d after CART-19 infusion.  \\nAdverse events associated with CART-19 treatment\\nNearly all patients developed grade 1â\\x80\\x933 chills and fever 1â\\x80\\x932Â\\xa0h after CART-19 infusions, and these symptoms subsided overnight. Delayed adverse events after CART-19 therapy are summarized in TableÂ\\xa02. In addition, patients (patients 2 and 9) received conditioning therapy developed neutropenia and thrombocytopenia which were associated with conditioning therapy before and after CART-19 cell infusion, so we did not consider these adverse events owing to patients with CART-19 infusion in this study.  \\nConsistent with previous reports, the primary toxicity was CRS, the severity order of which was primarily associated with tumor burdens the recurrent elevation of serum cytokines such as IL-6. Our results indicated peak levels of IL-6 after infusion of CART-19 cells in patients with severe CRS as compared with patients with CRS that was not severe (Fig.Â\\xa0S4B). In most cases such as in patient 9 (Figs.Â\\xa02A and 5A), CRS was effectively ameliorated without apparent effect on CART-19 cell expansion and persistence by the use of etanercept (anti-TNF-Î±) or tocilizumab (anti-IL-6R). Interestingly, patient 1 experienced 3 week intermittent low-grade fever and fatigue which may have been related to lung injury three months after CART-19 infusion. Pulmonary CT scanning showed bronchiectasis-like imaging features and ground-glass changes in the right middle and the lower lung lobes and left lower lobe (Fig.Â\\xa05B). All these abnormalities completely disappeared 2Â\\xa0weeks after one dose of etanercept (25 mg).  \\nGVHD induced by donored-derived CART19 cell infusion was observed 3â\\x80\\x934Â\\xa0weeks after cell treatment in patients 8 and 9. Aggravated hyperbilirubinemia, elevated aminotransferases in patient 8 (Fig.Â\\xa05C), and chronically aggravated skin damage in patient 9 (Fig.Â\\xa05D), were easily controlled and reversed with short-term use of corticoid agents and/or CsA.\\nDiscussion\\nCD19-targeted autologous T cell therapy has shown remarkable clinical efficacy in adult patients with relapsed and/or refractory B-ALL. This clinical trial was designed to test the clinical efficacy of autologous and donor-derived CART-19 cells in adult patients with chemotherapy-resistant/refractory disease and the related toxicities. The fact that six out of nine evaluable advanced patients experienced objective response in this trial not only demonstrates the potent in vivo antitumor activity of CART-19 cells but also suggests a promising applicability of CART-19 in CD19+ B-cell malignant diseases. Importantly, this study is the first to report that a substantial number of donor T cells specifically targeted to CD19 resulted in clinically significant GVHD in two patients.\\nAccumulated evidence from previously published data demonstrated that conditioning chemotherapy enhanced the engraftment of transferred T cells and improved clinical response in both hematological malignancies and solid tumors. All conditioning chemotherapy regimens, particularly the most intensive ones that combine chemotherapies and irradiation, appear to improve the persistence of transferred T cells as well as clinical response of malignancies. In recent reports of CRS following adoptive T-cell therapy for cancer, the incidence and severity of the syndrome also appears greater when patients have large tumor burdens. In this study, we recommended that two evaluable patients received C-MOAD conditioning regimens that were previously used before enrollment for transient debulking in an attempt to prevent life-threatening CRS. Significantly, one patient (patient 2) treated with CAR-modified T cells and conditioning regimens exhibited a pronounced, slowly progressive tumor response. Nevertheless, another patient (patient 9) exhibited complete regression in BM and PB over three months, with partial regression of extramedullary lesions after CART-19 cell treatment. Our findings suggest that conditioning regimens combined with intensive chemotherapy may prevent life-threatening CRS by reducing tumor burdens. Despite the well-documented benefits of conditioning chemotherapy in enhancing in vivo persistence and antitumor efficacy of adoptively transferred tumor-specific T cells, the role of the pre-infusion conditioning regimens needs to be carefully evaluated.\\nThe persistence of CART-19 cells in ALL patients lasted approximately three months, consistent with previous reports. There are several explanations for the modest expansion and in vivo persistence of infused CART-19 cells. The first is the number of central memory T cells in CART-19. Phenotypic analyses from our trial showed variable levels of central memory T cells in the CART-19 cells (TableÂ\\xa0S3). Second, some studies have demonstrated that the difference in persistence of CAR-modified T cells was due primarily to the administration of IL-2. However, it is not clear that IL-2 injections will help the transferred cytotoxic T cells, so the patients in our trial did not receive IL-2 injections. Third, a number of studies suggest plausible mechanisms for coordinate effects of chemotherapy and CART cells in addition to the lymph-depleting effects of chemotherapy, which promote homeostatic expansion of adoptive T cells, including CART-19 cells. This is consistent with our finding that patients 2 and 9, who received lymphodepleting therapy, demonstrated more rapid in vivo expansion after cell infusion (Fig.Â\\xa02A). Finally, there is evidence that the use of supportive treatments such as treatment for CRS and GVHD affect the survival of CART-19 cells. Administration of high lymphotoxic doses of steroids to treat GVHD in patient 9 resulted in a rapid amelioration of clinical symptoms but significantly abrogated CART-19 cell expansion and persistence (Fig.Â\\xa02A). Furthermore, progression of malignancy was observed in patients 8 and 9 after anti-GVHD therapy with short-term steroid treatment, consistent with previous reports. Thus, factors influencing the expansion and persistence of CAR-modified cells are complicated and need to be fully elucidated.\\nGVHD â\\x80\\x93 a severe adverse event â\\x80\\x93 was observed in patients 8 and 9 who were treated with donor-derived CART-19 cells in this study. This contrasts with other recent CAR studies in which none of patients had any evidence of GVHD after infusion of donor-derived CART-19 cells. In addition, patient 7 was treated with donor-derived but autologously collected CART-19 cells and no evidence of GVHD was noted. Several groups' exhibited chimerism levels have been associated with incidence of GVHD. Some reports observed that achievement of complete chimerism usually preceded grade 2â\\x80\\x934 acute GVHD. Meanwhile, other studies have also indicated that acute GVHD is a strong predictor of complete donor chimerism. These findings are also compatible with our study revealing that patients 7 and 9 had complete chimerism at the time of onset of grade 2â\\x80\\x933 GVHD. It is speculated that this is the reason why GVHD has not been observed in those patients of the previous studies who may have been completely chimerised and tolerized before donor T cell infusion. It is also conceivable that the total number of infused cells was much higher than in previous studies and that this may also have affected the development of GVHD in this trial. It should be cautious that the enrolled patients had mixed chimerism with an enhanced risk of GVHD.\\nAlthough two patients in whom malignancy regressed after receiving donor-derived CART-19 cells experienced GVHD, we also conclude that the regression of ALL was caused by CART-19 immune responses rather than general donor-versus-host response against allogeneic antigens. Two main features of the clinical course of these patients support this conclusion. First, the regression of these two patients' leukemia cells was evident < 2Â\\xa0weeks after receiving CART-19 cells. Such rapid regression of leukemia cells is not consistent with the slower regression of malignancy that is typically observed after standard donor lymphocyte infusions. Another reason is that regression of malignancy after CART-19 cell infusions was associated with rapid deficiency of all B cells (Fig.Â\\xa02A).\\nThe trafficking of targeted effector T cells to tumor sites is a prerequisite for their antitumor activity. Indeed, recent clinical data have provided compelling evidence to support the need to evaluate T cell function at the site of disease. Data accumulated mainly in the context of adverse events demonstrate that infused T cells do, in fact, traffic throughout the body and home to sites where target antigen is expressed. Here, a quantitative PCR assay was used to assess trafficking of CART-19 cells to multiple sites. We were able to detect CART-19 cells in post-infusion BM aspirates from patients, further supporting that the hypothesis that infused CART-19 cells can migrate to the site of tumor (BM) (Fig.Â\\xa02B, Figs.Â\\xa0S2A and S2B). The highly efficient migration of CART-19 cells to the CSF in patients 6 and 7, who had CNS3 leukemia, further suggests that this treatment holds promise in preventing relapse in the CNS and supports the testing of chimeric antigen receptor-directed T cell therapies for CNS lymphomas and primary CNS cancers. We found that the levels of CART-19 cells to multiple sites of tumor involvement, including subcutaneous nodules, CSF, and BM (Fig.Â\\xa0S5B), were very low nearly six months after infusion, which may have been a factor in the relapse of patient 7.\\nGenerally, patients with CNS leukemia and isolated extramedullary leukemia are considered as having high-risk ALL with a poor prognosis. In our study, extramedullary sites such as bone and muscular tissue have obtained a partial regression might be the result of CART cell infusion. This is supported by our previous study suggesting that a predominance of CAR T cells could traffick into lung and liver tissue, which may lead to the tumor regression of extramedullary sites in this study. However, why other extramedullary sites, such as adipose tissues, do not obtain a regression after CAR T cell infusion remains unclear. Intriguingly, we observed that immunohistochemical examination of biopsy specimens of subcutaneous adipose tissues from patient 7 after infusion show that tumor cells were CD19+ and CD10+ and little CD3+ cells infiltrated the tumor. In addition, it has been suggested that the migration of leukemia cells into extramedullary sites during chemotherapy may leave a reservoir of viable leukemia cells in extramedullary sites that eventually may proliferate and cause relapse. There is growing evidence that leukemia cells allow for directed migration and their retention within extramedullary sites of organ infiltration. As such, leukemia cells reside a microenvironment that facilitate their growth and protects them from spontaneous and induced apoptosis. Some findings indicate that leukemia cells can proliferate efficiently in extramedullary sites, but cannot in the PB where tumor stroma is absent. Furthermore, it has recently been shown that the extramedullary survival of leukemia cells is resistance to death signals, and this likely contributes to the poor clinical response of ALL treated with CART-19 cells. Some studies indicated that no donor cells were detected at the site of the extramedullary tumors. It exhibited that immunologically active CAR T cells may not reach isolated extramedullary sites, and recruitment of CAR T cells in these tissues may not be fully operative, or may be delayed. Taken together, extramedullary leukemia present a similar set of challenges compared with solid tumors: overall lesser sensitivity to T-cell-mediated cytotoxicity, a microenvironment that presents with an array of immunosuppressive mechanisms. Hence, we need new approaches to improve therapeutic efficacy in extramedullary leukemia such as intratumoral T cell administrator while ensuring patient safety is an essential goal that requires further investigation.\\nIn conclusion, adoptive immunotherapy with CD19-directed CAR-modified T cells is a feasible and possibly effective treatment modality for adult B-ALL patients with CNS3 leukemia. Debulking conditioning regimens combined intensive chemotherapy prior to CAR-modified T cell infusions may improve clinical response. Finally but importantly, it should be emphasized that the toxicity management of GVHD for enrolled patients with mixed chimerism treated with donor-derived CAR-modified T cells must be conducted with extreme caution.\\nMethods\\nPatient enrollment and clinical protocols\\nAdult patients with CD19+ B-ALL were eligible for enrollment. Relapsed or refractory disease was defined as no CR after more than two induction regimens or progression or recurrence of detectable disease after at least two cycles of salvage chemotherapy or HSCT. Patients with CNS3 (CNS3: â\\x89¥5/ÂµL WBCs, cytospin positive for blasts or Traumatic spinal tap with â\\x89¥10/Î¼L RBCs, cytospin positive for blasts; CNS1: no detectable leukemia in the CSF) leukemia or isolated extramedullary leukemia were eligible. The presence of CNS3 leukemia or isolated extramedullary leukemia was an exclusion criterion in most other studies. Of three patients who had previously undergone allogeneic HSCT, two patients with mixed (54% and 58% cells of donor origin) chimerism received transplant donor-derived CART-19 cells and one patient with complete chimerism was treated with donor-derived but autologously collected CART-19 cells. Patients with high tumor burden were considered for a conditioning treatment for lymphodepletion and debulking while preparing the T cell expansion only if they refused and/or were not suitable for further chemotherapy due to comorbidity. The first day of cell infusion was set as study day 0. CART-19 cells were transfused in escalating doses over a period of 3â\\x80\\x935 consecutive days on the basis of total cell numbers not on CART-19 cells. For each patient, the total number of CART-19 cell infused was â\\x89¥3.0 Ã\\x97 106/kg. Adverse events during and after therapy were assessed according to the National Institutes of Health Common Terminology Criteria for Adverse Events Version 3.0 (). All patients provided written informed consent in accordance with the Declaration of Helsinki before enrolling in the study. The protocol ( identifier NCT01864889) was approved by the Institutional Review Board at the Chinese PLA General Hospital. No commercial sponsor was involved in the study.\\nConstructs and lentivirus package\\nThe single chain fragment variable (scFv) sequence specific for CD19 was derived from HM852952.1 (GeneBank No.). CAR.19-4-1BBÎ¶ vectors harboring anti-CD19 scFv and human 4-1BB and CD3Î¶ signaling domains were generated (Fig.Â\\xa0S1A). The cassettes were cloned into a lentiviral backbone. A pseudotyped, clinical-grade lentiviral vector was produced according to current good manufacturing practices. The green fluorescence protein (GFP) harboring vector CARCD137Î¶-GFP was also constructed for verification of transduction efficiency.\\nGeneration and expansion of CAR T cells\\nCAR T cells were generated as previously described. CAR T cells were produced by adding the anti-CD3 monoclonal antibody OKT3 (500Â\\xa0ng/Î¼L) directly to whole peripheral-blood mononuclear cells (PBMCs) suspended in culture medium containing interleukin-2 (IL-2) (500Â\\xa0U/mL). Lentivirus-mediated CAR transduction was performed twice, on days 2 and 3 of cell culture in 24-well plates precoated with a recombinant fibronectin fragment. After transduction, the T cell lines were expanded ex vivo in the presence of IL-2 (500Â\\xa0U/mL) added three times weekly, without any additional stimulation with OKT3 antibody.\\nImmunophenotyping\\nAnti-human monoclonal antibodies against CD3, CD4, CD8, CD56, CD19, CD45RO, CD62L, and CCR7, were used for immunophenotyping analysis. All these antibodies and isotype-matched monoclonal antibodies were purchased from BD Biosciences (CA, USA). Data acquisition was performed using a FACSCalibur flow cytometer (BD Biosciences).\\nCytotoxicity assays\\nStandard 6Â\\xa0h carboxyfluorescein succinimidyl ester (CFSE) cytotoxicity assays were performed as previously described, using CD19â\\x88\\x92 K562, CD19+ NALM6 and Ramos cell lines and patients' autologous primary blasts.\\nQuantitative PCR\\nWe used real-time PCR to quantify the level of CAR transgenes as described previously. A 153-bp (base pair) fragment containing portions of the CD8a chain and adjacent 4-1BB chain was amplified. A standard curve was prepared for absolute quantitation of CAR transgene copies by making serial dilutions of the plasmid that encoded the CAR. A 7-point standard curve was generated consisting of 100 to 108 copies/Î¼L CAR plasmid spiked into 100Â\\xa0ng non-transduced control genomic DNA. Amplification of Î²-actin was used for normalization of DNA quantities. Quantitative PCR was also used for analysis of leukemia MRD of bcr-abl fusion gene.\\nCytokine measurements\\nSerum IL-2, IL-6, IL-10, IL-12p70, IL-12/IL23p40, IFNÎ³, TNF-Î±, VEGF, and Gramyz A levels were batch analyzed using a BD Biosciences microbead sandwich immunoassay according to the manufacturer's instruction.\\nStatistics\\nThe results are shown as the mean Â± standard deviation of the mean (SD) of triplicate measurements (wells). Data were plotted using GraphPad Prism version 5.0. Two-way analysis of variance (ANOVA) was used to determine the significance of the differences between means in all experiments. A P value < 0.05 was considered to be statistically significant.\\nFunding\\nThis study was supported by the grants from the National Natural Science Foundation of China (Nos. 31270820, 81230061, and 81121004), and is also supported by the Beijing Nova Program (No. Z141107001814104) and was partially supported by a grant from the National Basic Science and Development Programme of China (Nos. 2012CB518103, 2012AA020502 and 2013BAI01B00).\"]"
      ]
     },
     "execution_count": 2,
     "metadata": {},
     "output_type": "execute_result"
    }
   ],
   "source": [
    "from trialmind.pubmed import pmid2biocxml, parse_bioc_xml\n",
    "pmid_list = [\n",
    " '26451310',\n",
    "    ]\n",
    "res = pmid2biocxml(pmid_list)\n",
    "res = [parse_bioc_xml(r) for r in res]\n",
    "# transform the parsed xml into paper content\n",
    "papers = []\n",
    "for parsed in res:\n",
    "    paper_content = []\n",
    "    for parsed_ in parsed[\"passage\"]:\n",
    "        paper_content.append(parsed_['content'])\n",
    "    paper_content = \"\\n\".join(paper_content)\n",
    "    papers.append(paper_content)\n",
    "papers"
   ]
  },
  {
   "cell_type": "markdown",
   "id": "58aa5955-2b5f-4185-b912-8553acf518d4",
   "metadata": {},
   "source": [
    "# Study result extraction"
   ]
  },
  {
   "cell_type": "code",
   "execution_count": 3,
   "id": "6e1dbb9b-60f2-4484-8e55-bba38cc4b5ae",
   "metadata": {},
   "outputs": [],
   "source": [
    "from trialmind.api import StudyResultExtraction\n",
    "api = StudyResultExtraction()\n",
    "results = api.run(\n",
    "    papers=papers,\n",
    "    outcome = \"Complete Response Rate: defined as the absence of detectable cancer\",\n",
    "    cohort = \"Patients with refractory or relapsed hematologic or solid malignancies. Treated by CAR-T therapy.\",\n",
    "    llm = \"openai-gpt-4o\"\n",
    ")"
   ]
  },
  {
   "cell_type": "code",
   "execution_count": 4,
   "id": "69b1b70d-5420-403e-8fd6-68a128602909",
   "metadata": {},
   "outputs": [
    {
     "data": {
      "text/plain": [
       "[[{'Group Name': 'Patients with refractory or relapsed hematologic or solid malignancies treated by CAR-T therapy',\n",
       "   'N': 9,\n",
       "   'Results': '6/9 patients showed objective clinical response; 2/9 achieved complete response'}]]"
      ]
     },
     "execution_count": 4,
     "metadata": {},
     "output_type": "execute_result"
    }
   ],
   "source": [
    "results"
   ]
  },
  {
   "cell_type": "markdown",
   "id": "da764013-d77b-4891-a3c5-d3aab210f373",
   "metadata": {},
   "source": [
    "# Study result standardization"
   ]
  },
  {
   "cell_type": "code",
   "execution_count": 5,
   "id": "e4b36f93-8bbd-48dc-802d-6f447a673cda",
   "metadata": {},
   "outputs": [],
   "source": [
    "from trialmind.api import StudyResultStandardization\n",
    "from trialmind.sandbox import E2BSandbox\n",
    "import json\n",
    "\n",
    "# create the sandbox to execute the code\n",
    "sandbox = E2BSandbox()\n",
    "\n",
    "api = StudyResultStandardization()\n",
    "standardized = api.run(\n",
    "    population = \"Patients with refractory or relapsed hematologic or solid malignancies\",\n",
    "    intervention = \"CAR-T therapy\",\n",
    "    comparator = \"\",\n",
    "    outcome = \"Complete Response Rate: defined as the absence of detectable cancer\",\n",
    "    data_type=\"binary\",\n",
    "    llm = \"openai-gpt-4o\",\n",
    "    results = [json.dumps(results[0], indent=4)],\n",
    "    sandbox_id = sandbox.sandbox_id,\n",
    ")"
   ]
  },
  {
   "cell_type": "code",
   "execution_count": 9,
   "id": "64f03263-7e80-416a-b11f-37667231206c",
   "metadata": {},
   "outputs": [
    {
     "name": "stdout",
     "output_type": "stream",
     "text": [
      "[{'Group': 'Patients with refractory or relapsed hematologic or solid malignancies treated by CAR-T therapy', 'N': 9, 'Complete Response Rate': 2}]\n"
     ]
    }
   ],
   "source": [
    "print(standardized[0]['raw_data'])"
   ]
  },
  {
   "cell_type": "code",
   "execution_count": 10,
   "id": "b05ae73e-e9c2-466b-a09f-c300604b06fd",
   "metadata": {},
   "outputs": [
    {
     "name": "stdout",
     "output_type": "stream",
     "text": [
      "\n",
      "import pandas as pd\n",
      "import numpy as np\n",
      "\n",
      "# df = pd.DataFrame([{'Group': 'Patients with refractory or relapsed hematologic or solid malignancies treated by CAR-T therapy', 'N': 9, 'Complete Response Rate': 2}])\n",
      "\n",
      "def classify_arms(df: pd.DataFrame):\n",
      "    # Classify arms based on the research question\n",
      "    df['Group'] = df['Group'].apply(lambda x: 'Experimental' if 'CAR-T therapy' in x else 'Control')\n",
      "    return df\n",
      "\n",
      "def consolidate_data(df: pd.DataFrame):\n",
      "    # Consolidate data for each group\n",
      "    experimental = df[df['Group'] == 'Experimental']\n",
      "    control = df[df['Group'] == 'Control']\n",
      "    \n",
      "    exp_event = experimental['Complete Response Rate'].sum()\n",
      "    exp_total = experimental['N'].sum()\n",
      "    exp_no_event = exp_total - exp_event\n",
      "    \n",
      "    if not control.empty:\n",
      "        ctrl_event = control['Complete Response Rate'].sum()\n",
      "        ctrl_total = control['N'].sum()\n",
      "        ctrl_no_event = ctrl_total - ctrl_event\n",
      "    else:\n",
      "        ctrl_event = 0\n",
      "        ctrl_total = 0\n",
      "        ctrl_no_event = 0\n",
      "    \n",
      "    consolidated_data = {\n",
      "        'Study': ['Experimental', 'Control'],\n",
      "        'Event': [exp_event, ctrl_event],\n",
      "        'No event': [exp_no_event, ctrl_no_event],\n",
      "        'Total': [exp_total, ctrl_total]\n",
      "    }\n",
      "    \n",
      "    return pd.DataFrame(consolidated_data)\n",
      "\n",
      "def calculate_statistics(df: pd.DataFrame):\n",
      "    # In this case, no additional statistics are needed\n",
      "    return df\n",
      "\n",
      "# run these functions in sequence to get the final dataframe\n",
      "df = classify_arms(df)\n",
      "df = consolidate_data(df)\n",
      "df = calculate_statistics(df)\n",
      "\n",
      "print(df)\n",
      "\n"
     ]
    }
   ],
   "source": [
    "print(standardized[0]['code'])"
   ]
  },
  {
   "cell_type": "code",
   "execution_count": null,
   "id": "2db5f501-03cc-44a7-851f-72767daa1463",
   "metadata": {},
   "outputs": [],
   "source": []
  }
 ],
 "metadata": {
  "kernelspec": {
   "display_name": "Python 3 (ipykernel)",
   "language": "python",
   "name": "python3"
  },
  "language_info": {
   "codemirror_mode": {
    "name": "ipython",
    "version": 3
   },
   "file_extension": ".py",
   "mimetype": "text/x-python",
   "name": "python",
   "nbconvert_exporter": "python",
   "pygments_lexer": "ipython3",
   "version": "3.11.9"
  }
 },
 "nbformat": 4,
 "nbformat_minor": 5
}
